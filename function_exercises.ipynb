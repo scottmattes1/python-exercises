{
 "cells": [
  {
   "cell_type": "markdown",
   "id": "30a76754",
   "metadata": {},
   "source": [
    "### 1. Define a function named is_two. It should accept one input and return True if the passed input is either the number or the string 2, False otherwise."
   ]
  },
  {
   "cell_type": "code",
   "execution_count": 68,
   "id": "8137add6",
   "metadata": {},
   "outputs": [],
   "source": [
    "def is_two(num):\n",
    "    if num in [2, '2']:\n",
    "        return True\n",
    "    else:\n",
    "        return False"
   ]
  },
  {
   "cell_type": "code",
   "execution_count": 73,
   "id": "838e3f49",
   "metadata": {},
   "outputs": [
    {
     "name": "stdout",
     "output_type": "stream",
     "text": [
      " 2 is 2: True\n",
      " 6 is 2: False\n",
      " 4 is 2: False\n",
      " 99 is 2: False\n",
      " 2 is 2: True\n",
      " 2 is 2: True\n",
      " 4 is 2: False\n"
     ]
    }
   ],
   "source": [
    "list_of_nums = [2, 6, '4', 99, '2', '2', 4]\n",
    "list_of_nums\n",
    "\n",
    "for num in list_of_nums:\n",
    "    print(f' {num} is 2: {is_two(num)}')"
   ]
  },
  {
   "cell_type": "markdown",
   "id": "8e261b55",
   "metadata": {},
   "source": [
    "### 2. Define a function named is_vowel. It should return True if the passed string is a vowel, False otherwise."
   ]
  },
  {
   "cell_type": "code",
   "execution_count": 5,
   "id": "7b79dd72",
   "metadata": {},
   "outputs": [],
   "source": [
    "def is_vowel(string):\n",
    "    if string.lower() in ['a', 'e', 'i', 'o', 'u']:\n",
    "        return True\n",
    "    else:\n",
    "        return False"
   ]
  },
  {
   "cell_type": "code",
   "execution_count": 22,
   "id": "8aff4ed6",
   "metadata": {},
   "outputs": [
    {
     "name": "stdout",
     "output_type": "stream",
     "text": [
      "r: False\n",
      "w: False\n",
      "i: True\n",
      "h: False\n",
      "a: True\n",
      "a: True\n"
     ]
    }
   ],
   "source": [
    "list_of_chars = ['r', 'w', 'i', 'h', 'a', 'a']\n",
    "\n",
    "for char in list_of_chars:\n",
    "    print(f'{char}: {is_vowel(char)}')"
   ]
  },
  {
   "cell_type": "markdown",
   "id": "e324dac2",
   "metadata": {},
   "source": [
    "### 3. Define a function named is_consonant. It should return True if the passed string is a consonant, False otherwise. Use your is_vowel function to accomplish this."
   ]
  },
  {
   "cell_type": "code",
   "execution_count": 17,
   "id": "388a5aaf",
   "metadata": {},
   "outputs": [],
   "source": [
    "def is_consonant(str):\n",
    "    if str.lower() not in ['a', 'e', 'i', 'o', 'u']:\n",
    "        return True\n",
    "    else:\n",
    "        return False"
   ]
  },
  {
   "cell_type": "code",
   "execution_count": 21,
   "id": "46a11223",
   "metadata": {},
   "outputs": [
    {
     "name": "stdout",
     "output_type": "stream",
     "text": [
      "r: True\n",
      "w: True\n",
      "i: False\n",
      "h: True\n",
      "a: False\n",
      "a: False\n"
     ]
    }
   ],
   "source": [
    "list_of_chars = ['r', 'w', 'i', 'h', 'a', 'a']\n",
    "\n",
    "for char in list_of_chars:\n",
    "    print(f'{char}: {is_consonant(char)}')"
   ]
  },
  {
   "cell_type": "markdown",
   "id": "70be46df",
   "metadata": {},
   "source": [
    "### 4. Define a function that accepts a string that is a word. The function should capitalize the first letter of the word if the word starts with a consonant."
   ]
  },
  {
   "cell_type": "code",
   "execution_count": 23,
   "id": "1f32e01b",
   "metadata": {},
   "outputs": [],
   "source": [
    "def capitalize_if_consonant(word):\n",
    "    if word[0] not in ['a', 'e', 'i', 'o', 'u']:\n",
    "        word = word.capitalize()\n",
    "    return word"
   ]
  },
  {
   "cell_type": "code",
   "execution_count": 25,
   "id": "6c412b42",
   "metadata": {},
   "outputs": [
    {
     "name": "stdout",
     "output_type": "stream",
     "text": [
      "Guacamole\n",
      "anomaly\n",
      "Chartreuse\n",
      "Cowabunga\n",
      "ukelele\n",
      "Tsunami\n",
      "aardvark\n"
     ]
    }
   ],
   "source": [
    "test_words = ['guacamole', 'anomaly', 'chartreuse', 'cowabunga', 'ukelele', 'tsunami', 'aardvark', ]\n",
    "\n",
    "for word in test_words:\n",
    "    print(capitalize_if_consonant(word))"
   ]
  },
  {
   "cell_type": "markdown",
   "id": "403a831f",
   "metadata": {},
   "source": [
    "### 5. Define a function named calculate_tip. It should accept a tip percentage (a number between 0 and 1) and the bill total, and return the amount to tip."
   ]
  },
  {
   "cell_type": "code",
   "execution_count": 54,
   "id": "29a745f5",
   "metadata": {},
   "outputs": [],
   "source": [
    "def calculate_tip(bill, percent):\n",
    "    return round(bill * (1 + percent), 2)"
   ]
  },
  {
   "cell_type": "code",
   "execution_count": 30,
   "id": "fd0948db",
   "metadata": {},
   "outputs": [
    {
     "name": "stdout",
     "output_type": "stream",
     "text": [
      "26.0\n",
      "28.25\n",
      "29.5\n",
      "30.5\n"
     ]
    }
   ],
   "source": [
    "sample_percents = [.04, .13, .18, .22]\n",
    "\n",
    "for percent in sample_percents:\n",
    "    print(calculate_tip(25, percent))"
   ]
  },
  {
   "cell_type": "markdown",
   "id": "a9c87c38",
   "metadata": {},
   "source": [
    "### 6. Define a function named apply_discount. It should accept a original price, and a discount percentage, and return the price after the discount is applied."
   ]
  },
  {
   "cell_type": "code",
   "execution_count": 31,
   "id": "ebca0012",
   "metadata": {},
   "outputs": [],
   "source": [
    "def apply_discount(price, disc_percentage):\n",
    "    return price * (1 - disc_percentage)"
   ]
  },
  {
   "cell_type": "code",
   "execution_count": 34,
   "id": "f04f7334",
   "metadata": {},
   "outputs": [
    {
     "name": "stdout",
     "output_type": "stream",
     "text": [
      "127.5\n",
      "120.0\n",
      "97.5\n",
      "45.0\n",
      "67.5\n"
     ]
    }
   ],
   "source": [
    "test_discounts = [.15, .20, .35, .70, .55]\n",
    "\n",
    "for disc in test_discounts:\n",
    "    print(round(apply_discount(150, disc), 2))"
   ]
  },
  {
   "cell_type": "markdown",
   "id": "53b4e4ed",
   "metadata": {},
   "source": [
    "### 7. Define a function named handle_commas. It should accept a string that is a number that contains commas in it as input, and return a number as output."
   ]
  },
  {
   "cell_type": "code",
   "execution_count": 35,
   "id": "abb828bc",
   "metadata": {},
   "outputs": [],
   "source": [
    "def handle_commas(numstr):\n",
    "    numstr = numstr.replace(',', '')\n",
    "    return numstr"
   ]
  },
  {
   "cell_type": "code",
   "execution_count": 36,
   "id": "ec932286",
   "metadata": {},
   "outputs": [
    {
     "name": "stdout",
     "output_type": "stream",
     "text": [
      "1000000\n",
      "69420\n",
      "55555555555555\n",
      "987654432\n"
     ]
    }
   ],
   "source": [
    "test_nstrings = ['1,000,000', '69,420', '55,555,555,555,555', '987,654,432']\n",
    "\n",
    "for nstring in test_nstrings:\n",
    "    print(handle_commas(nstring))"
   ]
  },
  {
   "cell_type": "markdown",
   "id": "a32f5e0a",
   "metadata": {},
   "source": [
    "### 8. Define a function named get_letter_grade. It should accept a number and return the letter grade associated with that number (A-F)."
   ]
  },
  {
   "cell_type": "code",
   "execution_count": 38,
   "id": "546feb68",
   "metadata": {},
   "outputs": [],
   "source": [
    "def get_letter_grade(num):\n",
    "    if grade > 89:\n",
    "        return 'A'\n",
    "    elif grade > 79:\n",
    "        return 'B'\n",
    "    elif grade > 69:\n",
    "        return 'C'\n",
    "    elif grade > 59:\n",
    "        return 'D'\n",
    "    else:\n",
    "        return 'F'"
   ]
  },
  {
   "cell_type": "code",
   "execution_count": 39,
   "id": "4361e960",
   "metadata": {},
   "outputs": [
    {
     "name": "stdout",
     "output_type": "stream",
     "text": [
      "F\n",
      "D\n",
      "A\n",
      "F\n",
      "B\n",
      "C\n"
     ]
    }
   ],
   "source": [
    "test_grades = [55, 67, 98, 33, 83, 79]\n",
    "\n",
    "for grade in test_grades:\n",
    "    print(get_letter_grade(grade))"
   ]
  },
  {
   "cell_type": "markdown",
   "id": "92f25c14",
   "metadata": {},
   "source": [
    "### 9. Define a function named remove_vowels that accepts a string and returns a string with all the vowels removed."
   ]
  },
  {
   "cell_type": "code",
   "execution_count": 45,
   "id": "a25e776d",
   "metadata": {},
   "outputs": [],
   "source": [
    "def remove_vowels(str):\n",
    "    for char in str:\n",
    "        if char.lower() in ['a', 'e', 'i', 'o', 'u']:\n",
    "            str = str.replace(char, '')\n",
    "    return str"
   ]
  },
  {
   "cell_type": "code",
   "execution_count": 46,
   "id": "c9b896ff",
   "metadata": {
    "scrolled": true
   },
   "outputs": [
    {
     "name": "stdout",
     "output_type": "stream",
     "text": [
      "mnky\n",
      "pplch\n",
      "kndhr\n",
      "b Dhb\n",
      "krfffl\n"
     ]
    }
   ],
   "source": [
    "test_strings = ['monkey', 'appalachia', 'kandahar', 'Abu Dhabi', 'kerfuffle']\n",
    "\n",
    "for string in test_strings:\n",
    "    print(remove_vowels(string))"
   ]
  },
  {
   "cell_type": "code",
   "execution_count": null,
   "id": "371e6adb",
   "metadata": {},
   "outputs": [],
   "source": [
    "\n",
    "\n",
    "\n",
    "\n",
    "\n",
    "\n",
    "\n",
    "\n",
    "\n",
    "\n"
   ]
  },
  {
   "cell_type": "markdown",
   "id": "fc86ac05",
   "metadata": {},
   "source": [
    "### 10. Define a function named normalize_name. It should accept a string and return a valid python identifier, that is:\n",
    "* anything that is not a valid python identifier should be removed\n",
    "* leading and trailing whitespace should be removed\n",
    "* everything should be lowercase\n",
    "* spaces should be replaced with underscores\n",
    "* for example:\n",
    "** Name will become name\n",
    "** First Name will become first_name\n",
    "** % Completed will become completed"
   ]
  },
  {
   "cell_type": "code",
   "execution_count": 11,
   "id": "bd802499",
   "metadata": {},
   "outputs": [],
   "source": [
    "def normalize_name(str):\n",
    "    str = str.strip()\n",
    "    str = str.lower()\n",
    "    str = str.replace(' ', '_')\n",
    "    return str"
   ]
  },
  {
   "cell_type": "code",
   "execution_count": 80,
   "id": "e820f60d",
   "metadata": {},
   "outputs": [
    {
     "name": "stdout",
     "output_type": "stream",
     "text": [
      "'TedBundy'             --> 'tedbundy'\n",
      "'R i c k y B o B B y'  --> 'r_i_c_k_y_b_o_b_b_y'\n",
      "'Prince Rogers Nelson' --> 'prince_rogers_nelson'\n",
      "'TYRIONLANNISTER'      --> 'tyrionlannister'\n",
      "'Jim'                  --> 'jim'\n",
      "'The Real Slim Shady'  --> 'the_real_slim_shady'\n",
      "'darkwingduck'         --> 'darkwingduck'\n"
     ]
    }
   ],
   "source": [
    "test_strings = ['TedBundy', \n",
    "                'R i c k y B o B B y', \n",
    "                'Prince Rogers Nelson', \n",
    "                'TYRIONLANNISTER', \n",
    "                'Jim', \n",
    "                'The Real Slim Shady', \n",
    "                'darkwingduck' ]\n",
    "\n",
    "for string in test_strings:\n",
    "    print(f\"'{string}'{' ' * (20 - len(string))} --> '{normalize_name(string)}'\")"
   ]
  },
  {
   "cell_type": "code",
   "execution_count": null,
   "id": "e16b534b",
   "metadata": {},
   "outputs": [],
   "source": [
    "\n",
    "\n",
    "\n",
    "\n",
    "\n",
    "\n",
    "\n",
    "\n"
   ]
  },
  {
   "cell_type": "markdown",
   "id": "23ea4746",
   "metadata": {},
   "source": [
    "### 11. Write a function named cumulative_sum that accepts a list of numbers and returns a list that is the cumulative sum of the numbers in the list.\n",
    "* cumulative_sum([1, 1, 1]) returns [1, 2, 3]\n",
    "* cumulative_sum([1, 2, 3, 4]) returns [1, 3, 6, 10]"
   ]
  },
  {
   "cell_type": "code",
   "execution_count": 65,
   "id": "b5d9b188",
   "metadata": {},
   "outputs": [],
   "source": [
    "def cumulative_sum(numlist):\n",
    "    csum = []\n",
    "    num_so_far = 0\n",
    "    for num in numlist:\n",
    "        num_so_far += num\n",
    "        csum.append(num_so_far)\n",
    "    return csum"
   ]
  },
  {
   "cell_type": "code",
   "execution_count": 67,
   "id": "9e3bea7c",
   "metadata": {},
   "outputs": [
    {
     "name": "stdout",
     "output_type": "stream",
     "text": [
      "[1, 5, 10, 16, 19, 21]\n",
      "[1, 2, 3, 4, 5]\n",
      "[9, 16, 21, 24, 25]\n",
      "[3, 6, 9, 12, 15, 18, 21, 24, 27, 30, 33]\n"
     ]
    }
   ],
   "source": [
    "test_numlists = [[1,4,5,6,3,2], [1,1,1,1,1], [9,7,5,3,1], [3,3,3,3,3,3,3,3,3,3,3]]\n",
    "\n",
    "for list in test_numlists:\n",
    "    print(cumulative_sum(list))"
   ]
  }
 ],
 "metadata": {
  "kernelspec": {
   "display_name": "Python 3 (ipykernel)",
   "language": "python",
   "name": "python3"
  },
  "language_info": {
   "codemirror_mode": {
    "name": "ipython",
    "version": 3
   },
   "file_extension": ".py",
   "mimetype": "text/x-python",
   "name": "python",
   "nbconvert_exporter": "python",
   "pygments_lexer": "ipython3",
   "version": "3.10.9"
  }
 },
 "nbformat": 4,
 "nbformat_minor": 5
}
