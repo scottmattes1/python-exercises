{
 "cells": [
  {
   "cell_type": "markdown",
   "id": "7efdc4fa",
   "metadata": {},
   "source": [
    "# 20 Python Data Structure Manipulation Exercises"
   ]
  },
  {
   "cell_type": "code",
   "execution_count": 2,
   "id": "3e4bae77",
   "metadata": {},
   "outputs": [],
   "source": [
    "students = [\n",
    "    {\n",
    "        \"id\": \"100001\",\n",
    "        \"student\": \"Ada Lovelace\",\n",
    "        \"coffee_preference\": \"light\",\n",
    "        \"course\": \"web development\",\n",
    "        \"grades\": [70, 91, 82, 71],\n",
    "        \"pets\": [{\"species\": \"horse\", \"age\": 8}],\n",
    "    },\n",
    "    {\n",
    "        \"id\": \"100002\",\n",
    "        \"student\": \"Thomas Bayes\",\n",
    "        \"coffee_preference\": \"medium\",\n",
    "        \"course\": \"data science\",\n",
    "        \"grades\": [75, 73, 86, 100],\n",
    "        \"pets\": [],\n",
    "    },\n",
    "    {\n",
    "        \"id\": \"100003\",\n",
    "        \"student\": \"Marie Curie\",\n",
    "        \"coffee_preference\": \"light\",\n",
    "        \"course\": \"web development\",\n",
    "        \"grades\": [70, 89, 69, 65],\n",
    "        \"pets\": [{\"species\": \"cat\", \"age\": 0}],\n",
    "    },\n",
    "    {\n",
    "        \"id\": \"100004\",\n",
    "        \"student\": \"Grace Hopper\",\n",
    "        \"coffee_preference\": \"dark\",\n",
    "        \"course\": \"data science\",\n",
    "        \"grades\": [73, 66, 83, 92],\n",
    "        \"pets\": [{\"species\": \"dog\", \"age\": 4}, {\"species\": \"cat\", \"age\": 4}],\n",
    "    },\n",
    "    {\n",
    "        \"id\": \"100005\",\n",
    "        \"student\": \"Alan Turing\",\n",
    "        \"coffee_preference\": \"dark\",\n",
    "        \"course\": \"web development\",\n",
    "        \"grades\": [78, 98, 85, 65],\n",
    "        \"pets\": [\n",
    "            {\"species\": \"horse\", \"age\": 6},\n",
    "            {\"species\": \"horse\", \"age\": 7},\n",
    "            {\"species\": \"dog\", \"age\": 5},\n",
    "        ],\n",
    "    },\n",
    "    {\n",
    "        \"id\": \"100006\",\n",
    "        \"student\": \"Rosalind Franklin\",\n",
    "        \"coffee_preference\": \"dark\",\n",
    "        \"course\": \"data science\",\n",
    "        \"grades\": [76, 70, 96, 81],\n",
    "        \"pets\": [],\n",
    "    },\n",
    "    {\n",
    "        \"id\": \"100007\",\n",
    "        \"student\": \"Elizabeth Blackwell\",\n",
    "        \"coffee_preference\": \"dark\",\n",
    "        \"course\": \"web development\",\n",
    "        \"grades\": [69, 94, 89, 86],\n",
    "        \"pets\": [{\"species\": \"cat\", \"age\": 10}],\n",
    "    },\n",
    "    {\n",
    "        \"id\": \"100008\",\n",
    "        \"student\": \"Rene Descartes\",\n",
    "        \"coffee_preference\": \"medium\",\n",
    "        \"course\": \"data science\",\n",
    "        \"grades\": [87, 79, 90, 99],\n",
    "        \"pets\": [{\"species\": \"cat\", \"age\": 10}, {\"species\": \"cat\", \"age\": 8}],\n",
    "    },\n",
    "    {\n",
    "        \"id\": \"100009\",\n",
    "        \"student\": \"Ahmed Zewail\",\n",
    "        \"coffee_preference\": \"medium\",\n",
    "        \"course\": \"data science\",\n",
    "        \"grades\": [74, 99, 93, 89],\n",
    "        \"pets\": [{\"species\": \"cat\", \"age\": 0}, {\"species\": \"cat\", \"age\": 0}],\n",
    "    },\n",
    "    {\n",
    "        \"id\": \"100010\",\n",
    "        \"student\": \"Chien-Shiung Wu\",\n",
    "        \"coffee_preference\": \"medium\",\n",
    "        \"course\": \"web development\",\n",
    "        \"grades\": [82, 92, 91, 65],\n",
    "        \"pets\": [{\"species\": \"cat\", \"age\": 8}],\n",
    "    },\n",
    "    {\n",
    "        \"id\": \"100011\",\n",
    "        \"student\": \"William Sanford Nye\",\n",
    "        \"coffee_preference\": \"dark\",\n",
    "        \"course\": \"data science\",\n",
    "        \"grades\": [70, 92, 65, 99],\n",
    "        \"pets\": [{\"species\": \"cat\", \"age\": 8}, {\"species\": \"cat\", \"age\": 5}],\n",
    "    },\n",
    "    {\n",
    "        \"id\": \"100012\",\n",
    "        \"student\": \"Carl Sagan\",\n",
    "        \"coffee_preference\": \"medium\",\n",
    "        \"course\": \"data science\",\n",
    "        \"grades\": [100, 86, 91, 87],\n",
    "        \"pets\": [{\"species\": \"cat\", \"age\": 10}],\n",
    "    },\n",
    "    {\n",
    "        \"id\": \"100013\",\n",
    "        \"student\": \"Jane Goodall\",\n",
    "        \"coffee_preference\": \"light\",\n",
    "        \"course\": \"web development\",\n",
    "        \"grades\": [80, 70, 68, 98],\n",
    "        \"pets\": [{\"species\": \"horse\", \"age\": 4}],\n",
    "    },\n",
    "    {\n",
    "        \"id\": \"100014\",\n",
    "        \"student\": \"Richard Feynman\",\n",
    "        \"coffee_preference\": \"medium\",\n",
    "        \"course\": \"web development\",\n",
    "        \"grades\": [73, 99, 86, 98],\n",
    "        \"pets\": [{\"species\": \"dog\", \"age\": 6}],\n",
    "    },\n",
    "]"
   ]
  },
  {
   "cell_type": "code",
   "execution_count": 5,
   "id": "3790d385",
   "metadata": {},
   "outputs": [
    {
     "data": {
      "text/plain": [
       "14"
      ]
     },
     "execution_count": 5,
     "metadata": {},
     "output_type": "execute_result"
    }
   ],
   "source": [
    "# count number of students\n",
    "\n",
    "count_of_students = len(students)\n",
    "\n",
    "count_of_students"
   ]
  },
  {
   "cell_type": "code",
   "execution_count": 7,
   "id": "6d54a0ea",
   "metadata": {},
   "outputs": [
    {
     "name": "stdout",
     "output_type": "stream",
     "text": [
      "3\n"
     ]
    }
   ],
   "source": [
    "count = 0\n",
    "\n",
    "for dict in students:\n",
    "    if dict[\"coffee_preference\"] == \"light\":\n",
    "        count += 1\n",
    "\n",
    "print(count)"
   ]
  },
  {
   "cell_type": "code",
   "execution_count": 27,
   "id": "1ce5441b",
   "metadata": {},
   "outputs": [
    {
     "data": {
      "text/plain": [
       "[]"
      ]
     },
     "execution_count": 27,
     "metadata": {},
     "output_type": "execute_result"
    }
   ],
   "source": [
    "types_of_pets = []\n",
    "\n",
    "for x in students:\n",
    "    for term in x:\n",
    "        if term == 'species':\n",
    "            types_of_pets.append(pets['species'])\n",
    "        else:\n",
    "            continue\n",
    "    \n",
    "    \n",
    "    \n",
    "types_of_pets"
   ]
  },
  {
   "cell_type": "code",
   "execution_count": 33,
   "id": "a6ca6736",
   "metadata": {},
   "outputs": [
    {
     "data": {
      "text/plain": [
       "['horse', 'dog', 'cat']"
      ]
     },
     "execution_count": 33,
     "metadata": {},
     "output_type": "execute_result"
    }
   ],
   "source": [
    "unique_pet_types = list({pet['species'] for student in students for pet in student['pets']})\n",
    "unique_pet_types"
   ]
  },
  {
   "cell_type": "markdown",
   "id": "a0fe46ef",
   "metadata": {},
   "source": [
    "How many grades does each student have? \n",
    "Do they all have the same number of grades?"
   ]
  },
  {
   "cell_type": "code",
   "execution_count": 15,
   "id": "a99ce0bb",
   "metadata": {},
   "outputs": [
    {
     "data": {
      "text/plain": [
       "[('Ada Lovelace', 4),\n",
       " ('Thomas Bayes', 4),\n",
       " ('Marie Curie', 4),\n",
       " ('Grace Hopper', 4),\n",
       " ('Alan Turing', 4),\n",
       " ('Rosalind Franklin', 4),\n",
       " ('Elizabeth Blackwell', 4),\n",
       " ('Rene Descartes', 4),\n",
       " ('Ahmed Zewail', 4),\n",
       " ('Chien-Shiung Wu', 4),\n",
       " ('William Sanford Nye', 4),\n",
       " ('Carl Sagan', 4),\n",
       " ('Jane Goodall', 4),\n",
       " ('Richard Feynman', 4)]"
      ]
     },
     "execution_count": 15,
     "metadata": {},
     "output_type": "execute_result"
    }
   ],
   "source": [
    "def count(lst):\n",
    "    count = 0\n",
    "    for num in lst:\n",
    "        count += 1\n",
    "    return count\n",
    "\n",
    "grades_per_student = [(student['student'], count(student['grades'])) for student in students]\n",
    "grades_per_student"
   ]
  },
  {
   "cell_type": "code",
   "execution_count": 5,
   "id": "d31f3eb0",
   "metadata": {},
   "outputs": [
    {
     "data": {
      "text/plain": [
       "[78.5,\n",
       " 83.5,\n",
       " 73.25,\n",
       " 78.5,\n",
       " 81.5,\n",
       " 80.75,\n",
       " 84.5,\n",
       " 88.75,\n",
       " 88.75,\n",
       " 82.5,\n",
       " 81.5,\n",
       " 91.0,\n",
       " 79.0,\n",
       " 89.0]"
      ]
     },
     "execution_count": 5,
     "metadata": {},
     "output_type": "execute_result"
    }
   ],
   "source": [
    "def avg(lst):\n",
    "    return sum(lst) / len(lst)\n",
    "\n",
    "grade_avg_per_student = [avg(grades) for grades in grades_per_student]\n",
    "grade_avg_per_student"
   ]
  },
  {
   "cell_type": "markdown",
   "id": "9dfa78b3",
   "metadata": {},
   "source": [
    "How many pets does each student have?"
   ]
  },
  {
   "cell_type": "code",
   "execution_count": 30,
   "id": "5f3d30ab",
   "metadata": {},
   "outputs": [
    {
     "name": "stdout",
     "output_type": "stream",
     "text": [
      "[['Ada Lovelace', 1], ['Thomas Bayes', 0], ['Marie Curie', 1], ['Grace Hopper', 2], ['Alan Turing', 3], ['Rosalind Franklin', 0], ['Elizabeth Blackwell', 1], ['Rene Descartes', 2], ['Ahmed Zewail', 2], ['Chien-Shiung Wu', 1], ['William Sanford Nye', 2], ['Carl Sagan', 1], ['Jane Goodall', 1], ['Richard Feynman', 1]]\n"
     ]
    }
   ],
   "source": [
    "pet_counts = [list((student[\"student\"], len(student[\"pets\"]))) for student in students]\n",
    "print(pet_counts)"
   ]
  },
  {
   "cell_type": "markdown",
   "id": "9b5b0727",
   "metadata": {},
   "source": [
    "How many students are in web development? data science?"
   ]
  },
  {
   "cell_type": "code",
   "execution_count": 33,
   "id": "fe70c200",
   "metadata": {},
   "outputs": [
    {
     "name": "stdout",
     "output_type": "stream",
     "text": [
      "There are 7 students taking the web development course\n"
     ]
    }
   ],
   "source": [
    "students_in_web_dev = count([1 for student in students if student['course'] == 'web development'])\n",
    "print(f\"There are {students_in_web_dev} students taking the web development course.\")"
   ]
  },
  {
   "cell_type": "code",
   "execution_count": 36,
   "id": "ea3fd73a",
   "metadata": {
    "scrolled": true
   },
   "outputs": [
    {
     "name": "stdout",
     "output_type": "stream",
     "text": [
      "There are 7 students taking the data science course.\n"
     ]
    }
   ],
   "source": [
    "students_in_data_science = count([1 for student in students if student['course'] == 'data science'])\n",
    "print(f\"There are {students_in_data_science} students taking the data science course.\")"
   ]
  },
  {
   "cell_type": "markdown",
   "id": "17f3ebfa",
   "metadata": {},
   "source": [
    "What is the average number of pets for students in web development?"
   ]
  },
  {
   "cell_type": "code",
   "execution_count": 44,
   "id": "0673bb53",
   "metadata": {},
   "outputs": [
    {
     "name": "stdout",
     "output_type": "stream",
     "text": [
      "There is an average of 1.29 pets per web development student.\n"
     ]
    }
   ],
   "source": [
    "web_dev_pets = count([pet['species'] for student in students for pet in student['pets'] if student['course'] == 'web development'])\n",
    "\n",
    "avg_pets_per_wd_student = web_dev_pets / students_in_web_dev\n",
    "\n",
    "print(f\"There is an average of {round(avg_pets_per_wd_student, 2)} pets per web development student.\")"
   ]
  },
  {
   "cell_type": "code",
   "execution_count": 47,
   "id": "b9b8e8df",
   "metadata": {},
   "outputs": [
    {
     "name": "stdout",
     "output_type": "stream",
     "text": [
      "The average age of data science students' pets is 5.44 years.\n"
     ]
    }
   ],
   "source": [
    "ds_pet_avg_age = avg([pet['age'] for student in students for pet in student['pets'] if student['course'] == 'data science'])\n",
    "\n",
    "ds_pet_avg_age\n",
    "\n",
    "print(f\"The average age of data science students' pets is {round(ds_pet_avg_age, 2)} years.\")"
   ]
  },
  {
   "cell_type": "code",
   "execution_count": 54,
   "id": "1e646aa0",
   "metadata": {},
   "outputs": [
    {
     "name": "stdout",
     "output_type": "stream",
     "text": [
      "['medium', 'dark', 'dark', 'medium', 'medium', 'dark', 'medium']\n",
      "4 data science student prefer medium coffee and 3 data science students prefer dark coffee.\n"
     ]
    }
   ],
   "source": [
    "ds_coffee_preference = [student['coffee_preference'] for student in students if student['course'] == 'data science']\n",
    "print(ds_coffee_preference)\n",
    "dark_count = 0\n",
    "medium_count = 0\n",
    "\n",
    "for preference in ds_coffee_preference:\n",
    "    if preference == 'dark':\n",
    "        dark_count += 1\n",
    "    else:\n",
    "        medium_count += 1\n",
    "\n",
    "ds_coffee_preference\n",
    "print(f'{medium_count} data science student prefer medium coffee and {dark_count} data science students prefer dark coffee.')"
   ]
  },
  {
   "cell_type": "markdown",
   "id": "11373ab7",
   "metadata": {},
   "source": [
    "What is the average grade for students with at least 2 pets?"
   ]
  },
  {
   "cell_type": "code",
   "execution_count": 98,
   "id": "c0429d42",
   "metadata": {},
   "outputs": [
    {
     "name": "stdout",
     "output_type": "stream",
     "text": [
      "The average grade for students with at least two pets is 83.8.\n"
     ]
    }
   ],
   "source": [
    "students_with_atleast_two_pets = [student['student'] for student in students if len(student['pets']) > 1]\n",
    "students_with_atleast_two_pets\n",
    "\n",
    "grades_of_two_pet_students = [student['grades'] for student in students if student['student'] in students_with_atleast_two_pets]\n",
    "grades_of_two_pet_students\n",
    "\n",
    "def combine_list():\n",
    "    combined_list = []\n",
    "\n",
    "    for x in grades_of_two_pet_students:\n",
    "        combined_list = combined_list + x\n",
    "    return combined_list\n",
    "\n",
    "print(f\"The average grade for students with at least two pets is {avg(combined_list)}.\")\n",
    "    "
   ]
  },
  {
   "cell_type": "markdown",
   "id": "23746017",
   "metadata": {},
   "source": [
    "How many students have 3 pets?"
   ]
  },
  {
   "cell_type": "code",
   "execution_count": 60,
   "id": "f71c6fd9",
   "metadata": {},
   "outputs": [
    {
     "data": {
      "text/plain": [
       "['Alan Turing']"
      ]
     },
     "execution_count": 60,
     "metadata": {},
     "output_type": "execute_result"
    }
   ],
   "source": [
    "students_with_three_pets = [student['student'] for student in students if len(student['pets']) == 3]\n",
    "students_with_three_pets"
   ]
  },
  {
   "cell_type": "code",
   "execution_count": 125,
   "id": "0d9cf9a3",
   "metadata": {},
   "outputs": [
    {
     "name": "stdout",
     "output_type": "stream",
     "text": [
      "['Thomas Bayes', 'Rosalind Franklin']\n",
      "[[75, 73, 86, 100], [76, 70, 96, 81]]\n",
      "[75, 73, 86, 100, 76, 70, 96, 81]\n",
      "The average grade for students with no pets is 82.12.\n"
     ]
    }
   ],
   "source": [
    "def combinelist(lst):\n",
    "    combined_list = []\n",
    "    for x in lst:\n",
    "        for ele in x:\n",
    "            combined_list.append(ele)\n",
    "    return combined_list\n",
    "\n",
    "\n",
    "students_with_zero_pets = [student['student'] for student in students if len(student['pets']) == 0]\n",
    "print(students_with_zero_pets)\n",
    "\n",
    "grades_for_zero_pet_students = [student['grades'] for student in students if student['student'] in students_with_zero_pets]\n",
    "print(grades_for_zero_pet_students)\n",
    "\n",
    "combined_list = combinelist(grades_for_zero_pet_students)\n",
    "print(combined_list)\n",
    "\n",
    "#combined_list = [7,7]\n",
    "avg_grades_zero_pet_students = avg(combined_list)\n",
    "\n",
    "print(f\"The average grade for students with no pets is {round(avg_grades_zero_pet_students, 2)}.\")"
   ]
  },
  {
   "cell_type": "markdown",
   "id": "1e930499",
   "metadata": {},
   "source": [
    "What is the average grade for web development students? data science students?"
   ]
  },
  {
   "cell_type": "code",
   "execution_count": 131,
   "id": "130765f7",
   "metadata": {},
   "outputs": [
    {
     "name": "stdout",
     "output_type": "stream",
     "text": [
      " The averge web development student's grade is 1.286.\n"
     ]
    }
   ],
   "source": [
    "#avg grade for web dev students\n",
    "\n",
    "wd_student_grades = [student['grades'] for student in students if student['course'] == 'web development']\n",
    "#print(wd_students)\n",
    "\n",
    "avg_wd_student_grade = avg(combinelist(wd_student_grades))\n",
    "\n",
    "print(f\" The averge web development student's grade is {round(avg_pets_per_wd_student, 3)}.\")\n"
   ]
  },
  {
   "cell_type": "code",
   "execution_count": 133,
   "id": "01510273",
   "metadata": {},
   "outputs": [
    {
     "name": "stdout",
     "output_type": "stream",
     "text": [
      " The averge web development student's grade is 84.679.\n"
     ]
    }
   ],
   "source": [
    "#avg grade for data science students\n",
    "\n",
    "ds_student_grades = [student['grades'] for student in students if student['course'] == 'data science']\n",
    "#print(wd_students)\n",
    "\n",
    "avg_ds_student_grade = avg(combinelist(ds_student_grades))\n",
    "\n",
    "print(f\" The averge web development student's grade is {round(avg_ds_student_grade, 3)}.\")\n"
   ]
  },
  {
   "cell_type": "markdown",
   "id": "d06f922f",
   "metadata": {},
   "source": [
    "What is the average grade range (i.e. highest grade - lowest grade) for dark coffee drinkers?"
   ]
  },
  {
   "cell_type": "code",
   "execution_count": 139,
   "id": "e2c41495",
   "metadata": {},
   "outputs": [
    {
     "name": "stdout",
     "output_type": "stream",
     "text": [
      "The average grade range of dark coffee drinkers is 65 to 99.\n"
     ]
    }
   ],
   "source": [
    "#Use list comprehension to return a list of the students grades for those that drink dark coffee\n",
    "grades_of_dark_coffee_drinkers = [student['grades'] for student in students if student['coffee_preference'] == 'dark']\n",
    "\n",
    "#Use the combine list function to convert the list of lists into a normal list\n",
    "combined_list = combinelist(grades_of_dark_coffee_drinkers)\n",
    "\n",
    "#Use the max() function to calculate the m value of all the grades in the list\n",
    "#then assign the value to the max_dark_coffee_grade variable\n",
    "max_dark_coffee_grade = max(combined_list)\n",
    "\n",
    "#Use the min() function to calculate the min value of all the grades in the list\n",
    "#then assign the value to the min_dark_coffee_grade variable\n",
    "min_dark_coffee_grade = min(combined_list)\n",
    "\n",
    "#Present the value to the user\n",
    "print(f\"The average grade range of dark coffee drinkers is {min_dark_coffee_grade} to {max_dark_coffee_grade}.\")\n"
   ]
  },
  {
   "cell_type": "markdown",
   "id": "29fed727",
   "metadata": {},
   "source": [
    "What is the average number of pets for medium coffee drinkers?"
   ]
  },
  {
   "cell_type": "code",
   "execution_count": 193,
   "id": "d3fbc97a",
   "metadata": {},
   "outputs": [
    {
     "name": "stdout",
     "output_type": "stream",
     "text": [
      "The average number of pets among students who drink medium coffee is 1.167.\n"
     ]
    }
   ],
   "source": [
    "num_of_pets_per_mcoffee_students = [len(student['pets']) \n",
    "                                    for student in students \n",
    "                                    if student['coffee_preference'] == 'medium']\n",
    "num_of_pets_per_mcoffee_students\n",
    "\n",
    "print(f\"The average number of pets among students who drink medium coffee is {round(avg(num_of_pets_per_mcoffee_students), 3)}.\")\n"
   ]
  },
  {
   "cell_type": "markdown",
   "id": "b90ba130",
   "metadata": {},
   "source": [
    "What is the most common type of pet for web development students?"
   ]
  },
  {
   "cell_type": "code",
   "execution_count": 186,
   "id": "17ec8d44",
   "metadata": {},
   "outputs": [
    {
     "data": {
      "text/plain": [
       "['horse', 'cat', 'horse', 'horse', 'dog', 'cat', 'cat', 'horse', 'dog']"
      ]
     },
     "execution_count": 186,
     "metadata": {},
     "output_type": "execute_result"
    }
   ],
   "source": [
    "pet_list_of_wd_students = [pet['species'] for student in students for pet in student['pets'] if student['course'] == 'web development']\n",
    "pet_list_of_wd_students\n"
   ]
  },
  {
   "cell_type": "code",
   "execution_count": 191,
   "id": "f675669b",
   "metadata": {},
   "outputs": [
    {
     "name": "stdout",
     "output_type": "stream",
     "text": [
      "The most common type of pet web development students have is a horse.\n"
     ]
    }
   ],
   "source": [
    "#Makes a list that only returns the counts of the different pet types within the list of pets owned by web dev \n",
    "#students\n",
    "pet_count_list = [pet_list_of_wd_students.count(pet_type) \n",
    "                  for pet_type in set(pet_list_of_wd_students)]\n",
    "#print(pet_count_list)\n",
    "\n",
    "#A variable to store the largest count for a pet type\n",
    "count_of_most_common_pet = max(pet_count_list)\n",
    "\n",
    "#A dictionary that references the previously collected information to list each pet type and its count with \n",
    "#dictionary keys 'pet' and 'count'\n",
    "pet_type_dict = [{'pet': pet_type, 'count': pet_list_of_wd_students.count(pet_type)} \n",
    "                 for pet_type in set(pet_list_of_wd_students)]\n",
    "#print(pet_type_dict)\n",
    "\n",
    "#determines the most common pet by scanning the dictionary for the pet type that matches the most common pet count\n",
    "most_common_pet = [pet['pet'] \n",
    "                   for pet in pet_type_dict \n",
    "                   if pet['count'] == count_of_most_common_pet]\n",
    "\n",
    "most_common_pet = most_common_pet[0]\n",
    "#print(most_common_pet)\n",
    "\n",
    "#Presents the most common pet to the user\n",
    "print(f\"The most common type of pet web development students have is a {most_common_pet}.\")"
   ]
  }
 ],
 "metadata": {
  "kernelspec": {
   "display_name": "Python 3 (ipykernel)",
   "language": "python",
   "name": "python3"
  },
  "language_info": {
   "codemirror_mode": {
    "name": "ipython",
    "version": 3
   },
   "file_extension": ".py",
   "mimetype": "text/x-python",
   "name": "python",
   "nbconvert_exporter": "python",
   "pygments_lexer": "ipython3",
   "version": "3.10.9"
  }
 },
 "nbformat": 4,
 "nbformat_minor": 5
}
