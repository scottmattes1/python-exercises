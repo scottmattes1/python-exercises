{
 "cells": [
  {
   "cell_type": "code",
   "execution_count": 1,
   "id": "13cbb42b",
   "metadata": {
    "scrolled": true
   },
   "outputs": [
    {
     "name": "stdout",
     "output_type": "stream",
     "text": [
      "hello world\n"
     ]
    }
   ],
   "source": [
    "print(\"hello world\")"
   ]
  },
  {
   "cell_type": "code",
   "execution_count": 2,
   "id": "9293814f",
   "metadata": {},
   "outputs": [
    {
     "name": "stdout",
     "output_type": "stream",
     "text": [
      "hello world\n"
     ]
    }
   ],
   "source": [
    "greeting = \"hello world\"\n",
    "\n",
    "print(greeting)"
   ]
  },
  {
   "cell_type": "code",
   "execution_count": 6,
   "id": "49cf0d78",
   "metadata": {
    "scrolled": true
   },
   "outputs": [
    {
     "name": "stdout",
     "output_type": "stream",
     "text": [
      "hello world. hello world. hello world. \n"
     ]
    }
   ],
   "source": [
    "print((greeting + \". \") * 3)"
   ]
  },
  {
   "cell_type": "code",
   "execution_count": null,
   "id": "bb2fd3c3",
   "metadata": {},
   "outputs": [],
   "source": [
    "command + enter runs a cell"
   ]
  },
  {
   "cell_type": "code",
   "execution_count": null,
   "id": "0e0b8cdd",
   "metadata": {},
   "outputs": [],
   "source": [
    "command + shift + p"
   ]
  },
  {
   "cell_type": "code",
   "execution_count": null,
   "id": "1e7d366e",
   "metadata": {},
   "outputs": [],
   "source": [
    "command mode + d + d deletes a cell"
   ]
  }
 ],
 "metadata": {
  "kernelspec": {
   "display_name": "Python 3 (ipykernel)",
   "language": "python",
   "name": "python3"
  },
  "language_info": {
   "codemirror_mode": {
    "name": "ipython",
    "version": 3
   },
   "file_extension": ".py",
   "mimetype": "text/x-python",
   "name": "python",
   "nbconvert_exporter": "python",
   "pygments_lexer": "ipython3",
   "version": "3.10.9"
  }
 },
 "nbformat": 4,
 "nbformat_minor": 5
}
