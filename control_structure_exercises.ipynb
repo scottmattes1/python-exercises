{
 "cells": [
  {
   "cell_type": "markdown",
   "id": "82bf193f",
   "metadata": {},
   "source": [
    "1)"
   ]
  },
  {
   "cell_type": "code",
   "execution_count": 48,
   "id": "861e8695",
   "metadata": {},
   "outputs": [
    {
     "name": "stdout",
     "output_type": "stream",
     "text": [
      "Enter a day of the week: monday\n"
     ]
    }
   ],
   "source": [
    "#a\n",
    "#ask the user to input a day of the week\n",
    "answer = input('Enter a day of the week: ')"
   ]
  },
  {
   "cell_type": "code",
   "execution_count": 49,
   "id": "e7b2ed11",
   "metadata": {},
   "outputs": [
    {
     "name": "stdout",
     "output_type": "stream",
     "text": [
      "monday\n",
      "You chose Monday!\n"
     ]
    }
   ],
   "source": [
    "#conditional statement checks for a match on 'monday'\n",
    "#and prints 'You chose monday' if a match is found\n",
    "print(answer)\n",
    "if answer.lower() == 'monday':\n",
    "    print('You chose Monday!')\n",
    "    \n",
    "#if the user didn't input monday the code prints\n",
    "#'you did not choose monday'\n",
    "else:\n",
    "    print('You did not choose Monday.')"
   ]
  },
  {
   "cell_type": "code",
   "execution_count": 62,
   "id": "98749621",
   "metadata": {},
   "outputs": [
    {
     "name": "stdout",
     "output_type": "stream",
     "text": [
      "Enter a day of the week: tuesday\n",
      "You didn't choose a weekend.\n"
     ]
    },
    {
     "data": {
      "text/plain": [
       "False"
      ]
     },
     "execution_count": 62,
     "metadata": {},
     "output_type": "execute_result"
    }
   ],
   "source": [
    "#b\n",
    "\n",
    "answer = input('Enter a day of the week: ')\n",
    "\n",
    "if answer.lower() in ['saturday', 'sunday']:\n",
    "    print('You chose a weekend!')\n",
    "else:\n",
    "    print(\"You didn't choose a weekend.\")"
   ]
  },
  {
   "cell_type": "code",
   "execution_count": 68,
   "id": "6d6fd0f6",
   "metadata": {},
   "outputs": [
    {
     "name": "stdout",
     "output_type": "stream",
     "text": [
      "if-statement activated.\n"
     ]
    },
    {
     "data": {
      "text/plain": [
       "950.0"
      ]
     },
     "execution_count": 68,
     "metadata": {},
     "output_type": "execute_result"
    }
   ],
   "source": [
    "#c\n",
    "\n",
    "hours_worked = 45\n",
    "hourly_rate = 20\n",
    "\n",
    "if hours_worked > 40:\n",
    "    pay = (40 * hourly_rate) + (hours_worked - 40)*(1.5*hourly_rate)\n",
    "else:\n",
    "    pay = hours_worked * hourly_rate\n",
    "    \n",
    "pay"
   ]
  },
  {
   "cell_type": "markdown",
   "id": "d15dae16",
   "metadata": {},
   "source": [
    "2)"
   ]
  },
  {
   "cell_type": "code",
   "execution_count": 70,
   "id": "4a21ca13",
   "metadata": {},
   "outputs": [
    {
     "name": "stdout",
     "output_type": "stream",
     "text": [
      "5\n",
      "6\n",
      "7\n",
      "8\n",
      "9\n",
      "10\n",
      "11\n",
      "12\n",
      "13\n",
      "14\n",
      "15\n"
     ]
    }
   ],
   "source": [
    "i = 5\n",
    "\n",
    "while i <= 15:\n",
    "    print(i)\n",
    "    i += 1"
   ]
  },
  {
   "cell_type": "code",
   "execution_count": 71,
   "id": "c3ed7089",
   "metadata": {},
   "outputs": [
    {
     "name": "stdout",
     "output_type": "stream",
     "text": [
      "0\n",
      "2\n",
      "4\n",
      "6\n",
      "8\n",
      "10\n",
      "12\n",
      "14\n",
      "16\n",
      "18\n",
      "20\n",
      "22\n",
      "24\n",
      "26\n",
      "28\n",
      "30\n",
      "32\n",
      "34\n",
      "36\n",
      "38\n",
      "40\n",
      "42\n",
      "44\n",
      "46\n",
      "48\n",
      "50\n",
      "52\n",
      "54\n",
      "56\n",
      "58\n",
      "60\n",
      "62\n",
      "64\n",
      "66\n",
      "68\n",
      "70\n",
      "72\n",
      "74\n",
      "76\n",
      "78\n",
      "80\n",
      "82\n",
      "84\n",
      "86\n",
      "88\n",
      "90\n",
      "92\n",
      "94\n",
      "96\n",
      "98\n",
      "100\n"
     ]
    }
   ],
   "source": [
    "i = 0\n",
    "\n",
    "while i <= 100:\n",
    "    print(i)\n",
    "    i += 2"
   ]
  },
  {
   "cell_type": "code",
   "execution_count": 72,
   "id": "6001643c",
   "metadata": {},
   "outputs": [
    {
     "name": "stdout",
     "output_type": "stream",
     "text": [
      "2\n",
      "4\n",
      "16\n",
      "256\n",
      "65536\n"
     ]
    }
   ],
   "source": [
    "i = 2\n",
    "\n",
    "while i < 1_000_000:\n",
    "    print (i)\n",
    "    i *= i\n"
   ]
  },
  {
   "cell_type": "code",
   "execution_count": 73,
   "id": "4200ef35",
   "metadata": {},
   "outputs": [
    {
     "name": "stdout",
     "output_type": "stream",
     "text": [
      "100\n",
      "95\n",
      "90\n",
      "85\n",
      "80\n",
      "75\n",
      "70\n",
      "65\n",
      "60\n",
      "55\n",
      "50\n",
      "45\n",
      "40\n",
      "35\n",
      "30\n",
      "25\n",
      "20\n",
      "15\n",
      "10\n",
      "5\n"
     ]
    }
   ],
   "source": [
    "i = 100\n",
    "\n",
    "while i > 4:\n",
    "    print(i)\n",
    "    i -= 5"
   ]
  },
  {
   "cell_type": "code",
   "execution_count": 81,
   "id": "ebafb438",
   "metadata": {},
   "outputs": [
    {
     "name": "stdout",
     "output_type": "stream",
     "text": [
      "Enter a number: 8\n",
      "8 X 1 = 8\n",
      "8 X 2 = 16\n",
      "8 X 3 = 24\n",
      "8 X 4 = 32\n",
      "8 X 5 = 40\n",
      "8 X 6 = 48\n",
      "8 X 7 = 56\n",
      "8 X 8 = 64\n",
      "8 X 9 = 72\n",
      "8 X 10 = 80\n"
     ]
    }
   ],
   "source": [
    "answer = int(input(\"Enter a number: \"))\n",
    "\n",
    "i = 1\n",
    "\n",
    "while i < 11:\n",
    "    print(f'{str(answer)} X {i} = ' + str(answer * i) )\n",
    "    i += 1"
   ]
  },
  {
   "cell_type": "code",
   "execution_count": 84,
   "id": "56c9dd55",
   "metadata": {},
   "outputs": [
    {
     "name": "stdout",
     "output_type": "stream",
     "text": [
      "1\n",
      "22\n",
      "333\n",
      "4444\n",
      "55555\n",
      "666666\n",
      "7777777\n",
      "88888888\n",
      "999999999\n"
     ]
    }
   ],
   "source": [
    "for i in range(9):\n",
    "    print(str((i + 1)) * (i + 1))"
   ]
  },
  {
   "cell_type": "code",
   "execution_count": 87,
   "id": "e857053b",
   "metadata": {},
   "outputs": [
    {
     "name": "stdout",
     "output_type": "stream",
     "text": [
      "Please enter a positive integer: 8\n",
      "8\n",
      "7\n",
      "6\n",
      "5\n",
      "4\n",
      "3\n",
      "2\n",
      "1\n"
     ]
    }
   ],
   "source": [
    "#c\n",
    "\n",
    "answer = int(input(\"Please enter a positive integer: \"))\n",
    "\n",
    "while answer > 0:\n",
    "    print(answer)\n",
    "    answer -= 1"
   ]
  },
  {
   "cell_type": "code",
   "execution_count": 88,
   "id": "990582fc",
   "metadata": {},
   "outputs": [
    {
     "name": "stdout",
     "output_type": "stream",
     "text": [
      "Please enter a positive integer: 5\n",
      "0\n",
      "1\n",
      "2\n",
      "3\n",
      "4\n",
      "5\n"
     ]
    }
   ],
   "source": [
    "answer = int(input(\"Please enter a positive integer: \"))\n",
    "i = 0\n",
    "\n",
    "while i <= answer:\n",
    "    print(i)\n",
    "    i += 1"
   ]
  },
  {
   "cell_type": "code",
   "execution_count": 115,
   "id": "6918d8b7",
   "metadata": {},
   "outputs": [
    {
     "name": "stdout",
     "output_type": "stream",
     "text": [
      "Please enter an odd number between 1 and 50: 23\n",
      "\n",
      "Number to skip is: 23\n",
      "\n",
      "Here is an odd number: 1\n",
      "Here is an odd number: 3\n",
      "Here is an odd number: 5\n",
      "Here is an odd number: 7\n",
      "Here is an odd number: 9\n",
      "Here is an odd number: 11\n",
      "Here is an odd number: 13\n",
      "Here is an odd number: 15\n",
      "Here is an odd number: 17\n",
      "Here is an odd number: 19\n",
      "Here is an odd number: 21\n",
      "Here is an odd number: 25\n",
      "Here is an odd number: 27\n",
      "Here is an odd number: 29\n",
      "Here is an odd number: 31\n",
      "Here is an odd number: 33\n",
      "Here is an odd number: 35\n",
      "Here is an odd number: 37\n",
      "Here is an odd number: 39\n",
      "Here is an odd number: 41\n",
      "Here is an odd number: 43\n",
      "Here is an odd number: 45\n",
      "Here is an odd number: 47\n",
      "Here is an odd number: 49\n"
     ]
    }
   ],
   "source": [
    "answer = input(\"Please enter an odd number between 1 and 50: \")\n",
    "\n",
    "while not answer.isdigit() or int(answer) % 2 == 0 or int(answer) < 1 or int(answer) > 50:\n",
    "    input(\"You have entered an invalid number.\\nPlease enter an odd number between 1 and 50: \")\n",
    "    \n",
    "number_to_skip = int(answer)\n",
    "print(f\"\\nNumber to skip is: {number_to_skip}\\n\")\n",
    "\n",
    "x = 1\n",
    "\n",
    "for i in range(25):\n",
    "    if x == number_to_skip:\n",
    "        x += 2\n",
    "        continue\n",
    "    else:\n",
    "        print(f\"Here is an odd number: {x}\")\n",
    "        x += 2"
   ]
  },
  {
   "cell_type": "markdown",
   "id": "f0d93146",
   "metadata": {},
   "source": [
    "3)"
   ]
  },
  {
   "cell_type": "code",
   "execution_count": 117,
   "id": "417830bd",
   "metadata": {},
   "outputs": [
    {
     "name": "stdout",
     "output_type": "stream",
     "text": [
      "1\n",
      "2\n",
      "Fizz\n",
      "4\n",
      "Buzz\n",
      "Fizz\n",
      "7\n",
      "8\n",
      "Fizz\n",
      "Buzz\n",
      "11\n",
      "Fizz\n",
      "13\n",
      "14\n",
      "FizzBuzz\n",
      "16\n",
      "17\n",
      "Fizz\n",
      "19\n",
      "Buzz\n",
      "Fizz\n",
      "22\n",
      "23\n",
      "Fizz\n",
      "Buzz\n",
      "26\n",
      "Fizz\n",
      "28\n",
      "29\n",
      "FizzBuzz\n",
      "31\n",
      "32\n",
      "Fizz\n",
      "34\n",
      "Buzz\n",
      "Fizz\n",
      "37\n",
      "38\n",
      "Fizz\n",
      "Buzz\n",
      "41\n",
      "Fizz\n",
      "43\n",
      "44\n",
      "FizzBuzz\n",
      "46\n",
      "47\n",
      "Fizz\n",
      "49\n",
      "Buzz\n",
      "Fizz\n",
      "52\n",
      "53\n",
      "Fizz\n",
      "Buzz\n",
      "56\n",
      "Fizz\n",
      "58\n",
      "59\n",
      "FizzBuzz\n",
      "61\n",
      "62\n",
      "Fizz\n",
      "64\n",
      "Buzz\n",
      "Fizz\n",
      "67\n",
      "68\n",
      "Fizz\n",
      "Buzz\n",
      "71\n",
      "Fizz\n",
      "73\n",
      "74\n",
      "FizzBuzz\n",
      "76\n",
      "77\n",
      "Fizz\n",
      "79\n",
      "Buzz\n",
      "Fizz\n",
      "82\n",
      "83\n",
      "Fizz\n",
      "Buzz\n",
      "86\n",
      "Fizz\n",
      "88\n",
      "89\n",
      "FizzBuzz\n",
      "91\n",
      "92\n",
      "Fizz\n",
      "94\n",
      "Buzz\n",
      "Fizz\n",
      "97\n",
      "98\n",
      "Fizz\n",
      "Buzz\n"
     ]
    }
   ],
   "source": [
    "i = 1\n",
    "\n",
    "for i in range(100):\n",
    "    if (i + 1) % 3 == 0 and (i + 1) % 5 == 0:\n",
    "        print(\"FizzBuzz\")\n",
    "    elif (i + 1) % 3 ==0:\n",
    "        print(\"Fizz\")\n",
    "    elif (i + 1) % 5 == 0:\n",
    "        print(\"Buzz\")\n",
    "    else:\n",
    "        print(i+1)\n",
    "    "
   ]
  },
  {
   "cell_type": "code",
   "execution_count": null,
   "id": "fc3646ac",
   "metadata": {},
   "outputs": [],
   "source": [
    "4)"
   ]
  },
  {
   "cell_type": "code",
   "execution_count": 130,
   "id": "60649aa6",
   "metadata": {},
   "outputs": [
    {
     "name": "stdout",
     "output_type": "stream",
     "text": [
      "What number would you like to go up to? 5\n",
      "\n",
      "Here is your table!\n",
      "\n",
      "number | squared | cubed\n",
      "------ | ------- | ----- \n",
      "1      |1        |1\n",
      "2      |4        |8\n",
      "3      |9        |27\n",
      "4      |16       |64\n",
      "5      |25       |125\n"
     ]
    }
   ],
   "source": [
    "answer = int(input(\"What number would you like to go up to? \"))\n",
    "\n",
    "print(\"\"\"\n",
    "Here is your table!\n",
    "\n",
    "number | squared | cubed\n",
    "------ | ------- | ----- \"\"\")\n",
    "\n",
    "for i in range(answer):\n",
    "    if i > 2:\n",
    "        print(f\"{i+1}      |{(i+1)**2}       |{(i+1)**3}\")\n",
    "    else:\n",
    "        print(f\"{i+1}      |{(i+1)**2}        |{(i+1)**3}\")\n",
    "    "
   ]
  },
  {
   "cell_type": "markdown",
   "id": "ef6c3b5d",
   "metadata": {},
   "source": [
    "5)"
   ]
  },
  {
   "cell_type": "code",
   "execution_count": 144,
   "id": "02c00f2b",
   "metadata": {},
   "outputs": [
    {
     "name": "stdout",
     "output_type": "stream",
     "text": [
      "Please enter a grade from 0-100: 66\n",
      "Shape up! You got an D.\n",
      "Would you like to continue? (Y/N)N\n"
     ]
    }
   ],
   "source": [
    "answer = 100\n",
    "\n",
    "while str(answer):\n",
    "    answer = int(input(\"Please enter a grade from 0-100: \"))\n",
    "    if 88 <= answer <= 100:\n",
    "        print(\"Congrats! You got an A.\")\n",
    "    elif 80 <= answer <= 87:\n",
    "        print(\"Congrats! You got a B.\")\n",
    "    elif 67 <= answer <= 79:\n",
    "        print(\"Shape up! You got a C.\")\n",
    "    elif 60 <= answer <= 66:\n",
    "        print(\"Shape up! You got a D.\")\n",
    "    else:\n",
    "        print(\"Shape up! You got an F.\")\n",
    "    should_continue = input(\"Would you like to continue? (Y/N) \")\n",
    "    if should_continue.lower() == 'n':\n",
    "        break\n",
    "    "
   ]
  },
  {
   "cell_type": "code",
   "execution_count": 191,
   "id": "b4a8a4dc",
   "metadata": {
    "scrolled": true
   },
   "outputs": [
    {
     "data": {
      "text/plain": [
       "[{'title': 'Blink', 'author': 'Malcolm Gladwell', 'genre': 'Non-fiction'},\n",
       " {'title': \"Can't Hurt Me\", 'author': 'David Goggins', 'genre': 'Biography'},\n",
       " {'title': 'Extreme Ownership',\n",
       "  'author': 'Jocko Wilink',\n",
       "  'genre': 'Self-help'},\n",
       " {'title': 'Harry Potter', 'author': 'J.K. Rowling', 'genre': 'Fantasy'}]"
      ]
     },
     "execution_count": 191,
     "metadata": {},
     "output_type": "execute_result"
    }
   ],
   "source": [
    "\n",
    "one= dict(title='Blink', author= 'Malcolm Gladwell', genre='Non-fiction')\n",
    "two= dict(title= \"Can't Hurt Me\", author= 'David Goggins', genre= 'Biography')\n",
    "three= dict(title= \"Extreme Ownership\", author= 'Jocko Wilink', genre= 'Self-help')\n",
    "four= dict(title= \"Harry Potter\", author= 'J.K. Rowling', genre= 'Fantasy')\n",
    "\n",
    "books_ive_read = [one, two, three, four]\n",
    "\n",
    "books_ive_read\n",
    "\n"
   ]
  },
  {
   "cell_type": "code",
   "execution_count": 192,
   "id": "ec1f9a1d",
   "metadata": {
    "scrolled": true
   },
   "outputs": [
    {
     "name": "stdout",
     "output_type": "stream",
     "text": [
      "Please enter a genre: Fantasy\n",
      "Books with that genre: Harry Potter\n"
     ]
    }
   ],
   "source": [
    "#for book in books_ive_read:\n",
    "#    print(f\"Book title: {book['title']}\\nBook Author: {book['author']}\\nBook Genre: {book['genre']}\\n\\n\")\n",
    "\n",
    "answer= input(\"Please enter a genre: \")\n",
    "for book in books_ive_read:\n",
    "    if answer == book['genre']:\n",
    "        print('Books with that genre: '+ book['title'])"
   ]
  },
  {
   "cell_type": "code",
   "execution_count": 155,
   "id": "dbbedd63",
   "metadata": {},
   "outputs": [
    {
     "data": {
      "text/plain": [
       "9"
      ]
     },
     "execution_count": 155,
     "metadata": {},
     "output_type": "execute_result"
    }
   ],
   "source": []
  }
 ],
 "metadata": {
  "kernelspec": {
   "display_name": "Python 3 (ipykernel)",
   "language": "python",
   "name": "python3"
  },
  "language_info": {
   "codemirror_mode": {
    "name": "ipython",
    "version": 3
   },
   "file_extension": ".py",
   "mimetype": "text/x-python",
   "name": "python",
   "nbconvert_exporter": "python",
   "pygments_lexer": "ipython3",
   "version": "3.10.9"
  }
 },
 "nbformat": 4,
 "nbformat_minor": 5
}
